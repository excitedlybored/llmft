{
 "cells": [
  {
   "cell_type": "code",
   "execution_count": 3,
   "metadata": {},
   "outputs": [
    {
     "name": "stdout",
     "output_type": "stream",
     "text": [
      "Collecting git+https://github.com/huggingface/peft\n",
      "  Cloning https://github.com/huggingface/peft to /private/var/folders/y0/1ztx1x_53_734krv2j_d29hr0000gn/T/pip-req-build-q4i6s40_\n",
      "  Running command git clone --filter=blob:none --quiet https://github.com/huggingface/peft /private/var/folders/y0/1ztx1x_53_734krv2j_d29hr0000gn/T/pip-req-build-q4i6s40_\n",
      "  Resolved https://github.com/huggingface/peft to commit db8b76fdb500e10c0ee52cd30cefe55a608a52a6\n",
      "  Installing build dependencies ... \u001b[?25ldone\n",
      "\u001b[?25h  Getting requirements to build wheel ... \u001b[?25ldone\n",
      "\u001b[?25h  Preparing metadata (pyproject.toml) ... \u001b[?25ldone\n",
      "\u001b[?25hRequirement already satisfied: numpy>=1.17 in /Users/zijie-machine/Documents/DeepLearning/Project/env/lib/python3.11/site-packages (from peft==0.11.2.dev0) (1.26.4)\n",
      "Requirement already satisfied: packaging>=20.0 in /Users/zijie-machine/Documents/DeepLearning/Project/env/lib/python3.11/site-packages (from peft==0.11.2.dev0) (24.1)\n",
      "Requirement already satisfied: psutil in /Users/zijie-machine/Documents/DeepLearning/Project/env/lib/python3.11/site-packages (from peft==0.11.2.dev0) (6.0.0)\n",
      "Requirement already satisfied: pyyaml in /Users/zijie-machine/Documents/DeepLearning/Project/env/lib/python3.11/site-packages (from peft==0.11.2.dev0) (6.0.1)\n",
      "Requirement already satisfied: torch>=1.13.0 in /Users/zijie-machine/Documents/DeepLearning/Project/env/lib/python3.11/site-packages (from peft==0.11.2.dev0) (2.3.1)\n",
      "Requirement already satisfied: transformers in /Users/zijie-machine/Documents/DeepLearning/Project/env/lib/python3.11/site-packages (from peft==0.11.2.dev0) (4.42.3)\n",
      "Requirement already satisfied: tqdm in /Users/zijie-machine/Documents/DeepLearning/Project/env/lib/python3.11/site-packages (from peft==0.11.2.dev0) (4.66.4)\n",
      "Requirement already satisfied: accelerate>=0.21.0 in /Users/zijie-machine/Documents/DeepLearning/Project/env/lib/python3.11/site-packages (from peft==0.11.2.dev0) (0.31.0)\n",
      "Requirement already satisfied: safetensors in /Users/zijie-machine/Documents/DeepLearning/Project/env/lib/python3.11/site-packages (from peft==0.11.2.dev0) (0.4.3)\n",
      "Requirement already satisfied: huggingface-hub>=0.17.0 in /Users/zijie-machine/Documents/DeepLearning/Project/env/lib/python3.11/site-packages (from peft==0.11.2.dev0) (0.23.4)\n",
      "Requirement already satisfied: filelock in /Users/zijie-machine/Documents/DeepLearning/Project/env/lib/python3.11/site-packages (from huggingface-hub>=0.17.0->peft==0.11.2.dev0) (3.15.1)\n",
      "Requirement already satisfied: fsspec>=2023.5.0 in /Users/zijie-machine/Documents/DeepLearning/Project/env/lib/python3.11/site-packages (from huggingface-hub>=0.17.0->peft==0.11.2.dev0) (2024.6.1)\n",
      "Requirement already satisfied: requests in /Users/zijie-machine/Documents/DeepLearning/Project/env/lib/python3.11/site-packages (from huggingface-hub>=0.17.0->peft==0.11.2.dev0) (2.32.3)\n",
      "Requirement already satisfied: typing-extensions>=3.7.4.3 in /Users/zijie-machine/Documents/DeepLearning/Project/env/lib/python3.11/site-packages (from huggingface-hub>=0.17.0->peft==0.11.2.dev0) (4.12.2)\n",
      "Requirement already satisfied: sympy in /Users/zijie-machine/Documents/DeepLearning/Project/env/lib/python3.11/site-packages (from torch>=1.13.0->peft==0.11.2.dev0) (1.12.1)\n",
      "Requirement already satisfied: networkx in /Users/zijie-machine/Documents/DeepLearning/Project/env/lib/python3.11/site-packages (from torch>=1.13.0->peft==0.11.2.dev0) (3.3)\n",
      "Requirement already satisfied: jinja2 in /Users/zijie-machine/Documents/DeepLearning/Project/env/lib/python3.11/site-packages (from torch>=1.13.0->peft==0.11.2.dev0) (3.1.4)\n",
      "Requirement already satisfied: regex!=2019.12.17 in /Users/zijie-machine/Documents/DeepLearning/Project/env/lib/python3.11/site-packages (from transformers->peft==0.11.2.dev0) (2024.5.15)\n",
      "Requirement already satisfied: tokenizers<0.20,>=0.19 in /Users/zijie-machine/Documents/DeepLearning/Project/env/lib/python3.11/site-packages (from transformers->peft==0.11.2.dev0) (0.19.1)\n",
      "Requirement already satisfied: MarkupSafe>=2.0 in /Users/zijie-machine/Documents/DeepLearning/Project/env/lib/python3.11/site-packages (from jinja2->torch>=1.13.0->peft==0.11.2.dev0) (2.1.5)\n",
      "Requirement already satisfied: charset-normalizer<4,>=2 in /Users/zijie-machine/Documents/DeepLearning/Project/env/lib/python3.11/site-packages (from requests->huggingface-hub>=0.17.0->peft==0.11.2.dev0) (3.3.2)\n",
      "Requirement already satisfied: idna<4,>=2.5 in /Users/zijie-machine/Documents/DeepLearning/Project/env/lib/python3.11/site-packages (from requests->huggingface-hub>=0.17.0->peft==0.11.2.dev0) (3.7)\n",
      "Requirement already satisfied: urllib3<3,>=1.21.1 in /Users/zijie-machine/Documents/DeepLearning/Project/env/lib/python3.11/site-packages (from requests->huggingface-hub>=0.17.0->peft==0.11.2.dev0) (2.2.2)\n",
      "Requirement already satisfied: certifi>=2017.4.17 in /Users/zijie-machine/Documents/DeepLearning/Project/env/lib/python3.11/site-packages (from requests->huggingface-hub>=0.17.0->peft==0.11.2.dev0) (2024.6.2)\n",
      "Requirement already satisfied: mpmath<1.4.0,>=1.1.0 in /Users/zijie-machine/Documents/DeepLearning/Project/env/lib/python3.11/site-packages (from sympy->torch>=1.13.0->peft==0.11.2.dev0) (1.3.0)\n",
      "Building wheels for collected packages: peft\n",
      "  Building wheel for peft (pyproject.toml) ... \u001b[?25ldone\n",
      "\u001b[?25h  Created wheel for peft: filename=peft-0.11.2.dev0-py3-none-any.whl size=257247 sha256=b7a16e4ba8a24e73093b54df3f94419d242db22982ce084c2613f9420c08a6fe\n",
      "  Stored in directory: /private/var/folders/y0/1ztx1x_53_734krv2j_d29hr0000gn/T/pip-ephem-wheel-cache-flznq9ns/wheels/e1/0a/cc/243fa4389de86b6a8c8a6ac6511d2227d3e10934d3b19e5f5e\n",
      "Successfully built peft\n",
      "Installing collected packages: peft\n",
      "Successfully installed peft-0.11.2.dev0\n",
      "\n",
      "\u001b[1m[\u001b[0m\u001b[34;49mnotice\u001b[0m\u001b[1;39;49m]\u001b[0m\u001b[39;49m A new release of pip is available: \u001b[0m\u001b[31;49m24.0\u001b[0m\u001b[39;49m -> \u001b[0m\u001b[32;49m24.1\u001b[0m\n",
      "\u001b[1m[\u001b[0m\u001b[34;49mnotice\u001b[0m\u001b[1;39;49m]\u001b[0m\u001b[39;49m To update, run: \u001b[0m\u001b[32;49mpip install --upgrade pip\u001b[0m\n"
     ]
    }
   ],
   "source": [
    "# !pip install datasets trl peft bitsandbytes wandb accelerate transformers ipywidgets\n",
    "!pip install git+https://github.com/huggingface/peft"
   ]
  },
  {
   "cell_type": "code",
   "execution_count": 12,
   "metadata": {},
   "outputs": [
    {
     "name": "stdout",
     "output_type": "stream",
     "text": [
      "\r\n",
      "\u001b[1m[\u001b[0m\u001b[34;49mnotice\u001b[0m\u001b[1;39;49m]\u001b[0m\u001b[39;49m A new release of pip is available: \u001b[0m\u001b[31;49m24.0\u001b[0m\u001b[39;49m -> \u001b[0m\u001b[32;49m24.1\u001b[0m\r\n",
      "\u001b[1m[\u001b[0m\u001b[34;49mnotice\u001b[0m\u001b[1;39;49m]\u001b[0m\u001b[39;49m To update, run: \u001b[0m\u001b[32;49mpip install --upgrade pip\u001b[0m\r\n"
     ]
    }
   ],
   "source": [
    "!pip install -q -U peft"
   ]
  },
  {
   "cell_type": "code",
   "execution_count": null,
   "metadata": {},
   "outputs": [],
   "source": []
  },
  {
   "cell_type": "code",
   "execution_count": 11,
   "metadata": {},
   "outputs": [
    {
     "name": "stdout",
     "output_type": "stream",
     "text": [
      "Found existing installation: peft 0.11.2.dev0\r\n",
      "Uninstalling peft-0.11.2.dev0:\r\n",
      "  Successfully uninstalled peft-0.11.2.dev0\r\n"
     ]
    }
   ],
   "source": [
    "!pip uninstall -y peft"
   ]
  },
  {
   "cell_type": "code",
   "execution_count": 1,
   "metadata": {},
   "outputs": [
    {
     "name": "stdout",
     "output_type": "stream",
     "text": [
      "hi\n"
     ]
    }
   ],
   "source": [
    "print('hi')"
   ]
  },
  {
   "cell_type": "code",
   "execution_count": 2,
   "metadata": {},
   "outputs": [
    {
     "data": {
      "application/vnd.jupyter.widget-view+json": {
       "model_id": "bb4da0cb19a54702a1269739e15fe4bb",
       "version_major": 2,
       "version_minor": 0
      },
      "text/plain": [
       "VBox(children=(HTML(value='<center> <img\\nsrc=https://huggingface.co/front/assets/huggingface_logo-noborder.sv…"
      ]
     },
     "metadata": {},
     "output_type": "display_data"
    }
   ],
   "source": [
    "from huggingface_hub import notebook_login\n",
    "\n",
    "notebook_login()\n",
    "import os\n",
    "import gc\n",
    "import torch\n",
    "import transformers\n",
    "from transformers import (\n",
    "    AutoModelForCausalLM, \n",
    "    AutoTokenizer, \n",
    "    TrainingArguments, \n",
    "    BitsAndBytesConfig\n",
    ")\n",
    "from datasets import load_dataset"
   ]
  },
  {
   "cell_type": "code",
   "execution_count": 3,
   "metadata": {},
   "outputs": [
    {
     "ename": "ImportError",
     "evalue": "cannot import name 'prepare_model_for_kbit_training' from 'peft' (/Users/zijie-machine/code/gatech_ml/env/lib/python3.11/site-packages/peft/__init__.py)",
     "output_type": "error",
     "traceback": [
      "\u001b[0;31m---------------------------------------------------------------------------\u001b[0m",
      "\u001b[0;31mImportError\u001b[0m                               Traceback (most recent call last)",
      "Cell \u001b[0;32mIn[3], line 1\u001b[0m\n\u001b[0;32m----> 1\u001b[0m \u001b[38;5;28;01mfrom\u001b[39;00m \u001b[38;5;21;01mpeft\u001b[39;00m \u001b[38;5;28;01mimport\u001b[39;00m prepare_model_for_kbit_training\n",
      "\u001b[0;31mImportError\u001b[0m: cannot import name 'prepare_model_for_kbit_training' from 'peft' (/Users/zijie-machine/code/gatech_ml/env/lib/python3.11/site-packages/peft/__init__.py)"
     ]
    }
   ],
   "source": [
    "from peft import prepare_model_for_kbit_training"
   ]
  },
  {
   "cell_type": "code",
   "execution_count": null,
   "metadata": {},
   "outputs": [],
   "source": [
    "from peft import (\n",
    "    LoraConfig, \n",
    "    PeftModel, \n",
    "    get_peft_model, \n",
    "    prepare_model_for_kbit_training\n",
    ")\n",
    "from trl import DPOTrainer, setup_chat_format\n",
    "import bitsandbytes as bnb"
   ]
  },
  {
   "cell_type": "code",
   "execution_count": null,
   "metadata": {},
   "outputs": [],
   "source": []
  },
  {
   "cell_type": "code",
   "execution_count": null,
   "metadata": {},
   "outputs": [],
   "source": []
  }
 ],
 "metadata": {
  "kernelspec": {
   "display_name": "env",
   "language": "python",
   "name": "env"
  },
  "language_info": {
   "codemirror_mode": {
    "name": "ipython",
    "version": 3
   },
   "file_extension": ".py",
   "mimetype": "text/x-python",
   "name": "python",
   "nbconvert_exporter": "python",
   "pygments_lexer": "ipython3",
   "version": "3.11.9"
  }
 },
 "nbformat": 4,
 "nbformat_minor": 2
}
